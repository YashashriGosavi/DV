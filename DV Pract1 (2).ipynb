{
 "cells": [
  {
   "cell_type": "code",
   "execution_count": 12,
   "id": "6e307025-46e4-4e3e-8a85-32d2efc3976f",
   "metadata": {},
   "outputs": [
    {
     "name": "stdout",
     "output_type": "stream",
     "text": [
      "Requirement already satisfied: pandas in c:\\users\\com\\anaconda3\\lib\\site-packages (2.2.2)\n",
      "Requirement already satisfied: numpy>=1.26.0 in c:\\users\\com\\anaconda3\\lib\\site-packages (from pandas) (1.26.4)\n",
      "Requirement already satisfied: python-dateutil>=2.8.2 in c:\\users\\com\\anaconda3\\lib\\site-packages (from pandas) (2.9.0.post0)\n",
      "Requirement already satisfied: pytz>=2020.1 in c:\\users\\com\\anaconda3\\lib\\site-packages (from pandas) (2024.1)\n",
      "Requirement already satisfied: tzdata>=2022.7 in c:\\users\\com\\anaconda3\\lib\\site-packages (from pandas) (2023.3)\n",
      "Requirement already satisfied: six>=1.5 in c:\\users\\com\\anaconda3\\lib\\site-packages (from python-dateutil>=2.8.2->pandas) (1.16.0)\n"
     ]
    }
   ],
   "source": [
    "!pip install pandas"
   ]
  },
  {
   "cell_type": "code",
   "execution_count": 13,
   "id": "4641f49a-384e-4490-8c20-397452c488f9",
   "metadata": {},
   "outputs": [],
   "source": [
    "import pandas as pd"
   ]
  },
  {
   "cell_type": "code",
   "execution_count": 16,
   "id": "0182f745-d51d-4d88-9dc9-e944106521cd",
   "metadata": {},
   "outputs": [
    {
     "name": "stdout",
     "output_type": "stream",
     "text": [
      "0    10\n",
      "1    20\n",
      "2    30\n",
      "3    40\n",
      "4    50\n",
      "dtype: int64\n"
     ]
    }
   ],
   "source": [
    "# Creating a Series\n",
    "data = [10, 20, 30, 40, 50]\n",
    "series = pd.Series(data)\n",
    "\n",
    "# Display the Series\n",
    "print(series)\n"
   ]
  },
  {
   "cell_type": "code",
   "execution_count": 18,
   "id": "ca2265fe-0163-4618-974e-b922bd61cedb",
   "metadata": {},
   "outputs": [
    {
     "name": "stdout",
     "output_type": "stream",
     "text": [
      "count     5.000000\n",
      "mean     30.000000\n",
      "std      15.811388\n",
      "min      10.000000\n",
      "25%      20.000000\n",
      "50%      30.000000\n",
      "75%      40.000000\n",
      "max      50.000000\n",
      "dtype: float64\n"
     ]
    }
   ],
   "source": [
    "#using describe method\n",
    "print(series.describe())"
   ]
  },
  {
   "cell_type": "code",
   "execution_count": 22,
   "id": "2eccf45b-7d1d-403c-a555-b1cb9f1e0ef5",
   "metadata": {},
   "outputs": [
    {
     "name": "stdout",
     "output_type": "stream",
     "text": [
      "a    10\n",
      "b    20\n",
      "c    30\n",
      "d    40\n",
      "e    50\n",
      "dtype: int64\n"
     ]
    }
   ],
   "source": [
    "# Creating a Series with custom index\n",
    "index_labels = ['a', 'b', 'c', 'd', 'e']\n",
    "series_custom_index = pd.Series(data, index=index_labels)\n",
    "\n",
    "# Display the Series with custom index\n",
    "print(series_custom_index)\n"
   ]
  },
  {
   "cell_type": "code",
   "execution_count": 30,
   "id": "3073c9ab-54b9-4e35-8cd9-14f6ab42e975",
   "metadata": {},
   "outputs": [
    {
     "name": "stdout",
     "output_type": "stream",
     "text": [
      "40\n"
     ]
    },
    {
     "name": "stderr",
     "output_type": "stream",
     "text": [
      "C:\\Users\\com\\AppData\\Local\\Temp\\ipykernel_6908\\686104714.py:2: FutureWarning: Series.__getitem__ treating keys as positions is deprecated. In a future version, integer keys will always be treated as labels (consistent with DataFrame behavior). To access a value by position, use `ser.iloc[pos]`\n",
      "  print(series_custom_index[3])\n"
     ]
    }
   ],
   "source": [
    "#to print according to the inbuild index no.\n",
    "print(series_custom_index[3])"
   ]
  },
  {
   "cell_type": "code",
   "execution_count": 28,
   "id": "c9d7d15c-ef98-4087-9b8f-f8434b7e8546",
   "metadata": {},
   "outputs": [
    {
     "name": "stdout",
     "output_type": "stream",
     "text": [
      "40\n"
     ]
    }
   ],
   "source": [
    "#to print according to the custom index labels.\n",
    "print(series_custom_index['d'])"
   ]
  },
  {
   "cell_type": "code",
   "execution_count": 11,
   "id": "81dcee05-59d6-4b56-b137-6639c2f21cdf",
   "metadata": {},
   "outputs": [
    {
     "name": "stdout",
     "output_type": "stream",
     "text": [
      "{'num1': 100, 'num2': 200, 'num3': 300}\n",
      "num1    100\n",
      "num2    200\n",
      "num3    300\n",
      "dtype: int64\n"
     ]
    }
   ],
   "source": [
    "#creating a series using dictionary\n",
    "data_dict={'num1':100,'num2':200,'num3':300}\n",
    "print(data_dict)\n",
    "series_fromdict= pd.Series(data_dict)\n",
    "print(series_fromdict)\n"
   ]
  },
  {
   "cell_type": "code",
   "execution_count": 13,
   "id": "6e0a2111-c743-467e-aaf9-224ec2a4641f",
   "metadata": {},
   "outputs": [
    {
     "name": "stdout",
     "output_type": "stream",
     "text": [
      "200\n"
     ]
    },
    {
     "name": "stderr",
     "output_type": "stream",
     "text": [
      "C:\\Users\\com\\AppData\\Local\\Temp\\ipykernel_5392\\3317437628.py:2: FutureWarning: Series.__getitem__ treating keys as positions is deprecated. In a future version, integer keys will always be treated as labels (consistent with DataFrame behavior). To access a value by position, use `ser.iloc[pos]`\n",
      "  print(series_fromdict[1])\n"
     ]
    }
   ],
   "source": [
    "#particular series defined\n",
    "print(series_fromdict[1])"
   ]
  },
  {
   "cell_type": "code",
   "execution_count": 15,
   "id": "1368c493-cff0-419f-93f7-37b863a930d3",
   "metadata": {},
   "outputs": [
    {
     "name": "stdout",
     "output_type": "stream",
     "text": [
      "100\n"
     ]
    },
    {
     "name": "stderr",
     "output_type": "stream",
     "text": [
      "C:\\Users\\com\\AppData\\Local\\Temp\\ipykernel_5392\\546178466.py:1: FutureWarning: Series.__getitem__ treating keys as positions is deprecated. In a future version, integer keys will always be treated as labels (consistent with DataFrame behavior). To access a value by position, use `ser.iloc[pos]`\n",
      "  print(series_fromdict[0])\n"
     ]
    }
   ],
   "source": [
    "print(series_fromdict[0])"
   ]
  },
  {
   "cell_type": "code",
   "execution_count": 17,
   "id": "82282446-6cf6-49f7-b584-c2d44e080347",
   "metadata": {},
   "outputs": [
    {
     "name": "stdout",
     "output_type": "stream",
     "text": [
      "30\n"
     ]
    }
   ],
   "source": [
    "print(series_custom_index['c'])"
   ]
  },
  {
   "cell_type": "code",
   "execution_count": 19,
   "id": "26ce8b00-bba8-4fc7-837e-54201f12b85d",
   "metadata": {},
   "outputs": [
    {
     "name": "stdout",
     "output_type": "stream",
     "text": [
      "a    50\n",
      "b    50\n",
      "c    50\n",
      "d    50\n",
      "e    50\n",
      "dtype: int64\n",
      "abc    30\n",
      "xyz    30\n",
      "dtype: int64\n"
     ]
    }
   ],
   "source": [
    "# using scalar value\n",
    "scalar_value = 50\n",
    "index_label = ['a','b','c','d','e']\n",
    "series_scalar= pd.Series(scalar_value,index_label)\n",
    "newseries = pd.Series(30,['abc','xyz'])#add custom data\n",
    "print(series_scalar)\n",
    "print(newseries)"
   ]
  },
  {
   "cell_type": "code",
   "execution_count": 34,
   "id": "b1ca8a64-2da7-48e6-96ce-845ab6725097",
   "metadata": {},
   "outputs": [
    {
     "name": "stdout",
     "output_type": "stream",
     "text": [
      "0    1\n",
      "1    2\n",
      "2    3\n",
      "3    4\n",
      "4    5\n",
      "5    6\n",
      "6    7\n",
      "7    8\n",
      "8    9\n",
      "dtype: int64\n",
      "0    10\n",
      "1    20\n",
      "2    30\n",
      "3    40\n",
      "4    50\n",
      "5    60\n",
      "6    70\n",
      "7    80\n",
      "8    90\n",
      "dtype: int64\n",
      "\n",
      " addition of series1 & series2 2\n",
      "  0    11\n",
      "1    22\n",
      "2    33\n",
      "3    44\n",
      "4    55\n",
      "5    66\n",
      "6    77\n",
      "7    88\n",
      "8    99\n",
      "dtype: int64\n",
      "\n",
      " Adition of series1  0     4\n",
      "1     5\n",
      "2     6\n",
      "3     7\n",
      "4     8\n",
      "5     9\n",
      "6    10\n",
      "7    11\n",
      "8    12\n",
      "dtype: int64\n",
      "\n",
      " Subtraction  of series1 & series2 2\n",
      "  0    -9\n",
      "1   -18\n",
      "2   -27\n",
      "3   -36\n",
      "4   -45\n",
      "5   -54\n",
      "6   -63\n",
      "7   -72\n",
      "8   -81\n",
      "dtype: int64\n",
      "\n",
      " Subtraction  of series1  0   -2\n",
      "1   -1\n",
      "2    0\n",
      "3    1\n",
      "4    2\n",
      "5    3\n",
      "6    4\n",
      "7    5\n",
      "8    6\n",
      "dtype: int64\n"
     ]
    }
   ],
   "source": [
    "series1= pd.Series([1,2,3,4,5,6,7,8,9,])\n",
    "print(series1)\n",
    "series2= pd.Series([10,20,30,40,50,60,70,80,90,])\n",
    "print(series2)\n",
    "print('\\n addition of series1 & series2 2\\n ', series1+series2)\n",
    "print('\\n Adition of series1 ', series1.add(3))\n",
    "\n",
    "print('\\n Subtraction  of series1 & series2 2\\n ', series1-series2)\n",
    "print('\\n Subtraction  of series1 ', series1.sub(3))\n"
   ]
  },
  {
   "cell_type": "code",
   "execution_count": 38,
   "id": "34fe0a5a-a506-43c2-bd29-a7fb94f70996",
   "metadata": {},
   "outputs": [
    {
     "name": "stdout",
     "output_type": "stream",
     "text": [
      "mean of the series1 is 30.0\n",
      "sum of the series1 is 150\n",
      "min of the series1 is 10\n",
      "max of the series1 is 50\n",
      "Filter elements that are > than 20\n",
      " 0    False\n",
      "1    False\n",
      "2     True\n",
      "3     True\n",
      "4     True\n",
      "Name: Series count, dtype: bool\n",
      "filter element that are >than 20\n",
      " 2    30\n",
      "3    40\n",
      "4    50\n",
      "Name: Series count, dtype: int64\n",
      "\n",
      "Series with float values\n",
      " 0    10.0\n",
      "1    20.0\n",
      "2    30.0\n",
      "3    40.0\n",
      "4    50.0\n",
      "Name: Series count, dtype: float64\n",
      "\n",
      "fill none values\n",
      " 0    10\n",
      "1    20\n",
      "2    30\n",
      "3    40\n",
      "4    50\n",
      "Name: Series count, dtype: int64\n",
      "\n",
      "Unique values in the series\n",
      " [10 20 30 40 50]\n",
      "\n",
      "Unique values in the series\n",
      " 5\n"
     ]
    }
   ],
   "source": [
    "#find out mean of the series\n",
    "series1=pd.Series([10,20,30,40,50], name='Series count')# if you want to give a name\n",
    "print('mean of the series1 is', series1.mean())\n",
    "print('sum of the series1 is', series1.sum())\n",
    "print('min of the series1 is', series1.min())\n",
    "print('max of the series1 is', series1.max())\n",
    "\n",
    "# Filtering elements greater than 20\n",
    "print('Filter elements that are > than 20\\n', series1>20)\n",
    "print('filter element that are >than 20\\n', series1[series1 > 20])\n",
    "\n",
    "series2 = series1.astype(float)\n",
    "print('\\nSeries with float values\\n',series2)\n",
    "\n",
    "print('\\nfill none values\\n',series1.fillna(0))\n",
    "\n",
    "print('\\nUnique values in the series\\n', series.unique())\n",
    "print('\\nUnique values in the series\\n', series.nunique())\n"
   ]
  },
  {
   "cell_type": "code",
   "execution_count": 25,
   "id": "860b52d4-61c0-421d-83d6-167a9cae14f9",
   "metadata": {},
   "outputs": [
    {
     "name": "stdout",
     "output_type": "stream",
     "text": [
      "int to float 0    10.0\n",
      "1    20.0\n",
      "2    30.0\n",
      "3    40.0\n",
      "4    50.0\n",
      "Name: Series count, dtype: float64\n"
     ]
    }
   ],
   "source": [
    "s1=series1.astype(float)\n",
    "print('int to float',s1)"
   ]
  },
  {
   "cell_type": "code",
   "execution_count": null,
   "id": "91e9ca2d-569c-4b65-95d7-d444cc3d3da3",
   "metadata": {},
   "outputs": [],
   "source": []
  }
 ],
 "metadata": {
  "kernelspec": {
   "display_name": "Python 3 (ipykernel)",
   "language": "python",
   "name": "python3"
  },
  "language_info": {
   "codemirror_mode": {
    "name": "ipython",
    "version": 3
   },
   "file_extension": ".py",
   "mimetype": "text/x-python",
   "name": "python",
   "nbconvert_exporter": "python",
   "pygments_lexer": "ipython3",
   "version": "3.12.4"
  }
 },
 "nbformat": 4,
 "nbformat_minor": 5
}
